{
 "cells": [
  {
   "cell_type": "markdown",
   "source": [
    "# Model Building\n",
    "\n",
    "Use the original login data combined with the attack model probability score to build a risk model"
   ],
   "metadata": {}
  },
  {
   "cell_type": "code",
   "execution_count": 31,
   "source": [
    "import pandas as pd\n",
    "import numpy as np\n",
    "import dask.dataframe as dd\n",
    "import seaborn as sns\n",
    "import imblearn \n",
    "\n",
    "from sklearn.model_selection import train_test_split\n",
    "from sklearn.tree import DecisionTreeClassifier\n",
    "from sklearn.neighbors import NearestCentroid\n",
    "from sklearn.ensemble import GradientBoostingClassifier"
   ],
   "outputs": [],
   "metadata": {}
  },
  {
   "cell_type": "code",
   "execution_count": 3,
   "source": [
    "LOGINS_FILENAME = '../data/rba-dataset.csv' # downloaded from kaggle site\n",
    "SAMPLED_IPS_FILENAME = './attack_preds.csv'"
   ],
   "outputs": [],
   "metadata": {}
  },
  {
   "cell_type": "code",
   "execution_count": 4,
   "source": [
    "df_logins = dd.read_csv(LOGINS_FILENAME) \n",
    "df_ips = pd.read_csv(SAMPLED_IPS_FILENAME)"
   ],
   "outputs": [],
   "metadata": {}
  },
  {
   "cell_type": "code",
   "execution_count": 5,
   "source": [
    "# Our data will be a \"sample\" of all logins based on 30% of all IP addresses\n",
    "df_sample = df_logins[df_logins['IP Address'].isin(df_ips['IP Address'])].compute() "
   ],
   "outputs": [],
   "metadata": {}
  },
  {
   "cell_type": "code",
   "execution_count": 6,
   "source": [
    "df_sample.columns"
   ],
   "outputs": [
    {
     "output_type": "execute_result",
     "data": {
      "text/plain": [
       "Index(['index', 'Login Timestamp', 'User ID', 'Round-Trip Time [ms]',\n",
       "       'IP Address', 'Country', 'Region', 'City', 'ASN', 'User Agent String',\n",
       "       'Browser Name and Version', 'OS Name and Version', 'Device Type',\n",
       "       'Login Successful', 'Is Attack IP', 'Is Account Takeover'],\n",
       "      dtype='object')"
      ]
     },
     "metadata": {},
     "execution_count": 6
    }
   ],
   "metadata": {}
  },
  {
   "cell_type": "code",
   "execution_count": 7,
   "source": [
    "df_sample.shape"
   ],
   "outputs": [
    {
     "output_type": "execute_result",
     "data": {
      "text/plain": [
       "(22316836, 16)"
      ]
     },
     "metadata": {},
     "execution_count": 7
    }
   ],
   "metadata": {}
  },
  {
   "cell_type": "code",
   "execution_count": 8,
   "source": [
    "# Add features for yes/no Norway and one-hot of the device type\n",
    "df_sample['login_timestamp_dttm'] = pd.to_datetime(df_sample['Login Timestamp'])\n",
    "df_sample['hour_of_day'] = df_sample['login_timestamp_dttm'].dt.hour\n",
    "df_sample['is_norway'] = df_sample['Country'] == 'NO'\n",
    "df_sample['Device Type'] = df_sample['Device Type'].fillna('desktop')\n",
    "df_sample = pd.concat([df_sample, pd.get_dummies(df_sample['Device Type'])], axis=1)"
   ],
   "outputs": [],
   "metadata": {}
  },
  {
   "cell_type": "code",
   "execution_count": 9,
   "source": [
    "# Add features for each user with % login success \n",
    "df_sample['logins_hour_of_day_total'] = 1\n",
    "df_sample['Login Successful'] = df_sample['Login Successful'].fillna(0)\n",
    "df_sample['Login Successful Int'] = df_sample['Login Successful'].astype(int)\n",
    "df_users = df_sample.groupby(['User ID', 'hour_of_day'])[['Login Successful Int', 'logins_hour_of_day_total']].sum().reset_index()\n",
    "df_users['logins_hpd_accuracy'] = df_users['Login Successful Int'] / df_users['logins_hour_of_day_total']\n",
    "df_sample.drop(columns=['Login Successful Int', 'logins_hour_of_day_total'], inplace=True)\n",
    "df_users.head() "
   ],
   "outputs": [
    {
     "output_type": "execute_result",
     "data": {
      "text/plain": [
       "               User ID  hour_of_day  Login Successful Int  \\\n",
       "0 -9223369089733265380           12                     0   \n",
       "1 -9223358650992576877           22                     1   \n",
       "2 -9223352587108731553           16                     0   \n",
       "3 -9223351024921207274           22                     2   \n",
       "4 -9223350146673567063            8                     1   \n",
       "\n",
       "   logins_hour_of_day_total  logins_hpd_accuracy  \n",
       "0                         1             0.000000  \n",
       "1                         1             1.000000  \n",
       "2                         1             0.000000  \n",
       "3                         3             0.666667  \n",
       "4                         1             1.000000  "
      ],
      "text/html": [
       "<div>\n",
       "<style scoped>\n",
       "    .dataframe tbody tr th:only-of-type {\n",
       "        vertical-align: middle;\n",
       "    }\n",
       "\n",
       "    .dataframe tbody tr th {\n",
       "        vertical-align: top;\n",
       "    }\n",
       "\n",
       "    .dataframe thead th {\n",
       "        text-align: right;\n",
       "    }\n",
       "</style>\n",
       "<table border=\"1\" class=\"dataframe\">\n",
       "  <thead>\n",
       "    <tr style=\"text-align: right;\">\n",
       "      <th></th>\n",
       "      <th>User ID</th>\n",
       "      <th>hour_of_day</th>\n",
       "      <th>Login Successful Int</th>\n",
       "      <th>logins_hour_of_day_total</th>\n",
       "      <th>logins_hpd_accuracy</th>\n",
       "    </tr>\n",
       "  </thead>\n",
       "  <tbody>\n",
       "    <tr>\n",
       "      <th>0</th>\n",
       "      <td>-9223369089733265380</td>\n",
       "      <td>12</td>\n",
       "      <td>0</td>\n",
       "      <td>1</td>\n",
       "      <td>0.000000</td>\n",
       "    </tr>\n",
       "    <tr>\n",
       "      <th>1</th>\n",
       "      <td>-9223358650992576877</td>\n",
       "      <td>22</td>\n",
       "      <td>1</td>\n",
       "      <td>1</td>\n",
       "      <td>1.000000</td>\n",
       "    </tr>\n",
       "    <tr>\n",
       "      <th>2</th>\n",
       "      <td>-9223352587108731553</td>\n",
       "      <td>16</td>\n",
       "      <td>0</td>\n",
       "      <td>1</td>\n",
       "      <td>0.000000</td>\n",
       "    </tr>\n",
       "    <tr>\n",
       "      <th>3</th>\n",
       "      <td>-9223351024921207274</td>\n",
       "      <td>22</td>\n",
       "      <td>2</td>\n",
       "      <td>3</td>\n",
       "      <td>0.666667</td>\n",
       "    </tr>\n",
       "    <tr>\n",
       "      <th>4</th>\n",
       "      <td>-9223350146673567063</td>\n",
       "      <td>8</td>\n",
       "      <td>1</td>\n",
       "      <td>1</td>\n",
       "      <td>1.000000</td>\n",
       "    </tr>\n",
       "  </tbody>\n",
       "</table>\n",
       "</div>"
      ]
     },
     "metadata": {},
     "execution_count": 9
    }
   ],
   "metadata": {}
  },
  {
   "cell_type": "code",
   "execution_count": 10,
   "source": [
    "# Build complete feature set with user data and login data\n",
    "df_features = df_sample.merge(df_users, on=['User ID', 'hour_of_day'])\n",
    "df_features = df_features.merge(df_ips[['IP Address', 'attack_probability']], on='IP Address')"
   ],
   "outputs": [],
   "metadata": {}
  },
  {
   "cell_type": "code",
   "execution_count": 29,
   "source": [
    "df_features.columns"
   ],
   "outputs": [
    {
     "output_type": "execute_result",
     "data": {
      "text/plain": [
       "Index(['index', 'Login Timestamp', 'User ID', 'Round-Trip Time [ms]',\n",
       "       'IP Address', 'Country', 'Region', 'City', 'ASN', 'User Agent String',\n",
       "       'Browser Name and Version', 'OS Name and Version', 'Device Type',\n",
       "       'Login Successful', 'Is Attack IP', 'Is Account Takeover',\n",
       "       'login_timestamp_dttm', 'hour_of_day', 'is_norway', 'bot', 'desktop',\n",
       "       'mobile', 'tablet', 'unknown', 'Login Successful Int',\n",
       "       'logins_hour_of_day_total', 'logins_hpd_accuracy', 'attack_probability',\n",
       "       'count'],\n",
       "      dtype='object')"
      ]
     },
     "metadata": {},
     "execution_count": 29
    }
   ],
   "metadata": {}
  },
  {
   "cell_type": "code",
   "execution_count": 11,
   "source": [
    "# Quick visual for the presentation \n",
    "df_features['count'] = 1\n",
    "test = df_features.groupby(['Is Attack IP', 'Device Type'])['count'].sum().reset_index()\n",
    "sns.barplot(x='Device Type', y='count', hue='Is Attack IP', data=test)"
   ],
   "outputs": [
    {
     "output_type": "execute_result",
     "data": {
      "text/plain": [
       "<AxesSubplot:xlabel='Device Type', ylabel='count'>"
      ]
     },
     "metadata": {},
     "execution_count": 11
    },
    {
     "output_type": "display_data",
     "data": {
      "text/plain": [
       "<Figure size 640x480 with 1 Axes>"
      ],
      "image/png": "[encoded data removed]"
     },
     "metadata": {}
    }
   ],
   "metadata": {}
  },
  {
   "cell_type": "markdown",
   "source": [
    "## Oversampling\n",
    "\n",
    "We will use oversampling to generate 30% positive results of account takeovers. We can tune the 30% if we want, but it seems like a good number to start with. "
   ],
   "metadata": {}
  },
  {
   "cell_type": "code",
   "execution_count": 39,
   "source": [
    "X = df_features[['hour_of_day', 'is_norway', 'bot', 'desktop', 'mobile', 'tablet',\n",
    "       'unknown', 'Login Successful Int', 'logins_hour_of_day_total',\n",
    "       'logins_hpd_accuracy', 'attack_probability']]\n",
    "y = df_features['Is Account Takeover']\n",
    "\n",
    "smote = imblearn.over_sampling.SMOTE(sampling_strategy=0.3)\n",
    "\n",
    "# fit predictor and target variable\n",
    "x_smote, y_smote = smote.fit_resample(X, y)\n",
    "\n",
    "print('Original dataset shape', y.value_counts())\n",
    "print('Resample dataset shape', y_smote.value_counts())"
   ],
   "outputs": [
    {
     "output_type": "stream",
     "name": "stdout",
     "text": [
      "Original dataset shape False    22316695\n",
      "True          141\n",
      "Name: Is Account Takeover, dtype: int64\n",
      "Resample dataset shape False    22316695\n",
      "True      6695008\n",
      "Name: Is Account Takeover, dtype: int64\n"
     ]
    }
   ],
   "metadata": {}
  },
  {
   "cell_type": "markdown",
   "source": [
    "## Model Building \n",
    "\n",
    "### First, let's experiment with different models using a single train/test split "
   ],
   "metadata": {}
  },
  {
   "cell_type": "code",
   "execution_count": 40,
   "source": [
    "X_train, X_test, y_train, y_test = train_test_split(x_smote, y_smote, test_size=0.5, random_state=0)"
   ],
   "outputs": [],
   "metadata": {}
  },
  {
   "cell_type": "code",
   "execution_count": 41,
   "source": [
    "dtc = DecisionTreeClassifier()\n",
    "y_pred = dtc.fit(X_train, y_train).predict(X_test)\n",
    "print(\"Number of mislabeled points out of a total %d points : %d\"\n",
    "      % (X_test.shape[0], (y_test != y_pred).sum()))"
   ],
   "outputs": [
    {
     "output_type": "stream",
     "name": "stdout",
     "text": [
      "Number of mislabeled points out of a total 14505852 points : 20193\n"
     ]
    }
   ],
   "metadata": {}
  },
  {
   "cell_type": "code",
   "execution_count": 46,
   "source": [
    "pred_proba = gbdt_clf.predict_proba(X_test)"
   ],
   "outputs": [],
   "metadata": {}
  },
  {
   "cell_type": "code",
   "execution_count": 47,
   "source": [
    "sns.displot(pred_proba[:,1])"
   ],
   "outputs": [
    {
     "output_type": "execute_result",
     "data": {
      "text/plain": [
       "<seaborn.axisgrid.FacetGrid at 0x11e090220>"
      ]
     },
     "metadata": {},
     "execution_count": 47
    },
    {
     "output_type": "display_data",
     "data": {
      "text/plain": [
       "<Figure size 500x500 with 1 Axes>"
      ],
      "image/png": "[encoded data removed]"
     },
     "metadata": {}
    }
   ],
   "metadata": {}
  },
  {
   "cell_type": "code",
   "execution_count": 28,
   "source": [
    "from sklearn.metrics import confusion_matrix, accuracy_score, roc_auc_score\n",
    "accuracy_score(y_test, y_pred)"
   ],
   "outputs": [
    {
     "output_type": "execute_result",
     "data": {
      "text/plain": [
       "0.9857383075464992"
      ]
     },
     "metadata": {},
     "execution_count": 28
    }
   ],
   "metadata": {}
  },
  {
   "cell_type": "code",
   "execution_count": 26,
   "source": [
    "nc = NearestCentroid()\n",
    "y_pred = nc.fit(X_train, y_train).predict(X_test)\n",
    "print(\"Number of mislabeled points out of a total %d points : %d\"\n",
    "      % (X_test.shape[0], (y_test != y_pred).sum()))"
   ],
   "outputs": [
    {
     "output_type": "stream",
     "name": "stdout",
     "text": [
      "Number of mislabeled points out of a total 14505852 points : 5656039\n"
     ]
    }
   ],
   "metadata": {}
  },
  {
   "cell_type": "code",
   "execution_count": 37,
   "source": [
    "gbdt_clf = GradientBoostingClassifier()\n",
    "y_pred = gbdt_clf.fit(X_train, y_train).predict(X_test)\n",
    "print(\"Number of mislabeled points out of a total %d points : %d\"\n",
    "      % (X_test.shape[0], (y_test != y_pred).sum()))"
   ],
   "outputs": [
    {
     "output_type": "stream",
     "name": "stdout",
     "text": [
      "Number of mislabeled points out of a total 14505852 points : 281596\n"
     ]
    }
   ],
   "metadata": {}
  },
  {
   "cell_type": "code",
   "execution_count": null,
   "source": [
    "# TODO: Try more models. Do hyperparameter tuning. Complete 10-fold cross val on final model. "
   ],
   "outputs": [],
   "metadata": {}
  },
  {
   "cell_type": "markdown",
   "source": [
    "## The same model without the attack prediction score \n",
    "\n",
    "This might help show if the model was better or worse with the attack IP prediction score over the 0/1 indicator for attack IPs"
   ],
   "metadata": {}
  },
  {
   "cell_type": "code",
   "execution_count": 38,
   "source": [
    "from sklearn.model_selection import train_test_split\n",
    "from sklearn.naive_bayes import GaussianNB\n",
    "\n",
    "X = df_features[['hour_of_day', 'is_norway', 'bot', 'desktop', 'mobile', 'tablet',\n",
    "       'unknown', 'Login Successful Int', 'logins_hour_of_day_total',\n",
    "       'logins_hpd_accuracy', 'Is Attack IP']] # use the original Is Attack IP column\n",
    "y = df_features['Is Account Takeover']\n",
    "\n",
    "import imblearn \n",
    "smote = imblearn.over_sampling.SMOTE(sampling_strategy=0.3)\n",
    "\n",
    "# fit predictor and target variable\n",
    "x_smote, y_smote = smote.fit_resample(X, y)\n",
    "\n",
    "X_train, X_test, y_train, y_test = train_test_split(x_smote, y_smote, test_size=0.5, random_state=0)\n",
    "dtc = DecisionTreeClassifier()\n",
    "y_pred = dtc.fit(X_train, y_train).predict(X_test)\n",
    "print(\"Number of mislabeled points out of a total %d points : %d\"\n",
    "      % (X_test.shape[0], (y_test != y_pred).sum()))"
   ],
   "outputs": [
    {
     "output_type": "stream",
     "name": "stdout",
     "text": [
      "Number of mislabeled points out of a total 14505852 points : 206543\n"
     ]
    }
   ],
   "metadata": {}
  },
  {
   "cell_type": "code",
   "execution_count": 34,
   "source": [
    "gbdt_clf = GradientBoostingClassifier()\n",
    "y_pred = gbdt_clf.fit(X_train, y_train).predict(X_test)\n",
    "print(\"Number of mislabeled points out of a total %d points : %d\"\n",
    "      % (X_test.shape[0], (y_test != y_pred).sum()))"
   ],
   "outputs": [
    {
     "output_type": "stream",
     "name": "stdout",
     "text": [
      "Number of mislabeled points out of a total 14505852 points : 328130\n"
     ]
    }
   ],
   "metadata": {}
  },
  {
   "cell_type": "markdown",
   "source": [
    "## Potential code for later..."
   ],
   "metadata": {}
  },
  {
   "cell_type": "code",
   "execution_count": 15,
   "source": [
    "# TBD: Maybe add more a window lag over for logins by a user\n",
    "\n",
    "# df_features['login_timestamp_dttm'] = pd.to_datetime(df_features['Login Timestamp'])\n",
    "# df_window = df_features.sort_values('login_timestamp_dttm')\n",
    "# df_window = df_window.groupby(['User ID'])\n",
    "# df_window['Time Since Last Attempt'] = df_window['login_timestamp_dttm'].rolling(window=2).apply(lambda x: x.iloc[-1] - x.iloc[0])\n",
    "# df_window = df_window.reset_index() \n",
    "# df_window.head() "
   ],
   "outputs": [],
   "metadata": {}
  }
 ],
 "metadata": {
  "orig_nbformat": 4,
  "language_info": {
   "name": "python",
   "version": "3.10.6",
   "mimetype": "text/x-python",
   "codemirror_mode": {
    "name": "ipython",
    "version": 3
   },
   "pygments_lexer": "ipython3",
   "nbconvert_exporter": "python",
   "file_extension": ".py"
  },
  "kernelspec": {
   "name": "python3",
   "display_name": "Python 3.10.6 64-bit"
  },
  "interpreter": {
   "hash": "3f909654a35711e7765f671b53a5c4c11873b9ac7a045bd3263cc62d41ec2b71"
  }
 },
 "nbformat": 4,
 "nbformat_minor": 2
}